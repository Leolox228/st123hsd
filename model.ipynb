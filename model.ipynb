{
  "nbformat": 4,
  "nbformat_minor": 0,
  "metadata": {
    "colab": {
      "provenance": [],
      "authorship_tag": "ABX9TyNgV++CMQOSXLpSKBcayfRL",
      "include_colab_link": true
    },
    "kernelspec": {
      "name": "python3",
      "display_name": "Python 3"
    },
    "language_info": {
      "name": "python"
    }
  },
  "cells": [
    {
      "cell_type": "markdown",
      "metadata": {
        "id": "view-in-github",
        "colab_type": "text"
      },
      "source": [
        "<a href=\"https://colab.research.google.com/github/Leolox228/st123hsd/blob/main/model.ipynb\" target=\"_parent\"><img src=\"https://colab.research.google.com/assets/colab-badge.svg\" alt=\"Open In Colab\"/></a>"
      ]
    },
    {
      "cell_type": "markdown",
      "source": [
        "Нужно загрузить библиотеки:"
      ],
      "metadata": {
        "id": "0BJ7kvN15Qux"
      }
    },
    {
      "cell_type": "code",
      "source": [
        "!pip install tensorflow\n",
        "!pip install termcolor"
      ],
      "metadata": {
        "collapsed": true,
        "id": "cpmocOw55Iwu"
      },
      "execution_count": null,
      "outputs": []
    },
    {
      "cell_type": "markdown",
      "source": [
        "Сначала нам нужно создать и обучить модель:"
      ],
      "metadata": {
        "id": "Q-4APtzO4spH"
      }
    },
    {
      "cell_type": "code",
      "source": [
        "import tensorflow as tf\n",
        "from tensorflow import keras\n",
        "from tensorflow.keras import layers\n",
        "import random\n",
        "import numpy as np\n",
        "\n",
        "model = tf.keras.Sequential()\n",
        "model.add(layers.Dense(32, activation='softplus', input_shape=(2,)))\n",
        "model.add(layers.Dense(16, activation='relu'))\n",
        "model.add(layers.Dense(1))\n",
        "\n",
        "model.compile(optimizer='adam',\n",
        "              loss='mean_squared_error',\n",
        "              metrics=['mae'])\n",
        "\n",
        "x_train = []\n",
        "y_train = []\n",
        "for i in range(1000):\n",
        "    for j in range(1000):\n",
        "        x_train.append([i, j])\n",
        "        y_train.append((i + j))\n",
        "\n",
        "x_train = np.array(x_train)\n",
        "y_train = np.array(y_train)\n",
        "\n",
        "model.fit(x_train, y_train, epochs=6)\n",
        "\n",
        "model.save('test_model.keras')"
      ],
      "metadata": {
        "id": "Cdb1Jdfz45xX"
      },
      "execution_count": null,
      "outputs": []
    },
    {
      "cell_type": "markdown",
      "source": [
        "А теперь можно использовать модель!"
      ],
      "metadata": {
        "id": "5AftLL_V4-hN"
      }
    },
    {
      "cell_type": "code",
      "source": [
        "import tensorflow as tf\n",
        "from tensorflow import keras\n",
        "import numpy as np\n",
        "from termcolor import colored\n",
        "\n",
        "model = keras.models.load_model('test_model.keras')\n",
        "while True:\n",
        "    a, b = map(int, input(\">>\").split())\n",
        "    test_sample = np.array([[a, b]])\n",
        "    prediction = model.predict(test_sample)\n",
        "    print(colored(f\"Model: {prediction[0][0]}\", \"yellow\"))\n",
        "\n",
        "    print(colored(f\"Good: {a + b}\", \"green\"))\n",
        "    print(colored(f\"Loss: {abs(prediction[0][0] - (a + b))}\", \"red\"))\n",
        "    if abs(prediction[0][0] - (a + b)) < 1:\n",
        "        print(colored(\"Loss is good!\", \"light_blue\"))"
      ],
      "metadata": {
        "id": "P63xrU9r3wGf"
      },
      "execution_count": null,
      "outputs": []
    }
  ]
}